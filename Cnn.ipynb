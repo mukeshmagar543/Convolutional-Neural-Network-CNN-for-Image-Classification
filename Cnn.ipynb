{
 "cells": [
  {
   "cell_type": "code",
   "execution_count": null,
   "id": "355f62cc",
   "metadata": {},
   "outputs": [],
   "source": [
    "import numpy as np\n",
    "import matplotlib.pyplot as plt\n",
    "import tensorflow as tf\n",
    "from tensorflow.keras import Sequential\n",
    "from tensorflow.keras.layers import Dense, Conv2D, MaxPooling1D, Flatten\n",
    "from tensorflow.keras.datasets import cifar10\n",
    "from tensorflow.keras import models, layers\n",
    "import warnings\n",
    "warnings.filterwarnings(\"ignore\")\n"
   ]
  },
  {
   "cell_type": "code",
   "execution_count": null,
   "id": "723c2940",
   "metadata": {},
   "outputs": [],
   "source": [
    "# Spliting the dataset into training and testing sets\n",
    "(x_train, y_train), (x_test, y_test) = cifar10.load_data()"
   ]
  },
  {
   "cell_type": "code",
   "execution_count": null,
   "id": "16fdbb15",
   "metadata": {},
   "outputs": [],
   "source": [
    "print(x_train.shape)\n",
    "print(x_test.shape)"
   ]
  },
  {
   "cell_type": "code",
   "execution_count": null,
   "id": "c016a691",
   "metadata": {},
   "outputs": [],
   "source": [
    "x_train[0]  # Displaying the first image of the training set"
   ]
  },
  {
   "cell_type": "code",
   "execution_count": null,
   "id": "521ca30e",
   "metadata": {},
   "outputs": [],
   "source": [
    "y_test[:5]  # Displaying the first 5 labels of the test set"
   ]
  },
  {
   "cell_type": "code",
   "execution_count": null,
   "id": "6360f89b",
   "metadata": {},
   "outputs": [],
   "source": [
    "y_train = y_train.reshape(-1,)"
   ]
  },
  {
   "cell_type": "code",
   "execution_count": null,
   "id": "3396d061",
   "metadata": {},
   "outputs": [],
   "source": [
    "y_train[:5]  # Displaying the first 5 labels of the training set"
   ]
  },
  {
   "cell_type": "code",
   "execution_count": null,
   "id": "9fcbf2ad",
   "metadata": {},
   "outputs": [],
   "source": [
    "y_test = y_test.reshape(-1,)"
   ]
  },
  {
   "cell_type": "code",
   "execution_count": null,
   "id": "27e118f5",
   "metadata": {},
   "outputs": [],
   "source": [
    "y_test[:5]  # Displaying the first 5 labels of the test set"
   ]
  },
  {
   "cell_type": "code",
   "execution_count": null,
   "id": "ea3a452d",
   "metadata": {},
   "outputs": [],
   "source": [
    "x_train = x_train/ 255.0\n",
    "x_test = x_test/ 255.0"
   ]
  },
  {
   "cell_type": "code",
   "execution_count": null,
   "id": "8035ec63",
   "metadata": {},
   "outputs": [],
   "source": [
    "classes = ['airplane', 'automobile', 'bird', 'cat', 'deer',\n",
    "           'dog', 'frog', 'horse', 'ship', 'truck']"
   ]
  },
  {
   "cell_type": "code",
   "execution_count": null,
   "id": "7451a122",
   "metadata": {},
   "outputs": [],
   "source": [
    "def sample_plot(x, y, index):\n",
    "    plt.figure(figsize=(15,2))\n",
    "    plt.imshow(x[index])\n",
    "    plt.xlabel(classes[y[index]])"
   ]
  },
  {
   "cell_type": "code",
   "execution_count": null,
   "id": "2cca7a3c",
   "metadata": {},
   "outputs": [],
   "source": [
    "sample_plot(x_train, y_train, 9)  # Displaying the ninth image of the training set with its label"
   ]
  },
  {
   "cell_type": "code",
   "execution_count": null,
   "id": "5b276ba4",
   "metadata": {},
   "outputs": [],
   "source": [
    "sample_plot(x_train, y_train, 67)  # Displaying the 67 image of the training set with its label"
   ]
  },
  {
   "cell_type": "markdown",
   "id": "e1f76ea7",
   "metadata": {},
   "source": [
    "# **ANN Model**"
   ]
  },
  {
   "cell_type": "code",
   "execution_count": null,
   "id": "16237308",
   "metadata": {},
   "outputs": [],
   "source": [
    "model = Sequential([\n",
    "    layers.Flatten(input_shape=(32, 32, 3)),\n",
    "    layers.Dense(3000, activation='relu'),\n",
    "    layers.Dense(1000, activation='relu'),\n",
    "    layers.Dense(10, activation='softmax')\n",
    "]\n",
    ")\n",
    "\n",
    "model.compile(optimizer='SGD',\n",
    "              loss='sparse_categorical_crossentropy',\n",
    "                metrics=['accuracy']\n",
    "                )\n",
    "\n",
    "model.fit(x_train, y_train, epochs=5)"
   ]
  },
  {
   "cell_type": "code",
   "execution_count": null,
   "id": "05d97b36",
   "metadata": {},
   "outputs": [],
   "source": [
    "ypred = model.predict(x_test)\n",
    "ypred_classes = [np.argmax(element) for element in ypred]"
   ]
  },
  {
   "cell_type": "code",
   "execution_count": null,
   "id": "1344006f",
   "metadata": {},
   "outputs": [],
   "source": [
    "from sklearn.metrics import confusion_matrix, classification_report\n",
    "print(classification_report(y_test, ypred_classes))"
   ]
  },
  {
   "cell_type": "markdown",
   "id": "364dab1b",
   "metadata": {},
   "source": [
    "# **CNN Model**"
   ]
  },
  {
   "cell_type": "code",
   "execution_count": 11,
   "id": "19b19c35",
   "metadata": {},
   "outputs": [],
   "source": [
    "import numpy as np\n",
    "import matplotlib.pyplot as plt\n",
    "import tensorflow as tf\n",
    "from tensorflow.keras import Sequential\n",
    "from tensorflow.keras.layers import Dense, Conv2D, MaxPooling2D, Flatten\n",
    "from tensorflow.keras.datasets import cifar10\n",
    "from tensorflow.keras import models, layers\n",
    "import warnings\n",
    "warnings.filterwarnings(\"ignore\")\n"
   ]
  },
  {
   "cell_type": "code",
   "execution_count": 2,
   "id": "b695937b",
   "metadata": {},
   "outputs": [
    {
     "name": "stdout",
     "output_type": "stream",
     "text": [
      "(50000, 32, 32, 3)\n",
      "(10000, 32, 32, 3)\n"
     ]
    }
   ],
   "source": [
    "# Spliting the dataset into training and testing sets\n",
    "(x_train, y_train), (x_test, y_test) = cifar10.load_data()\n",
    "print(x_train.shape)\n",
    "print(x_test.shape)"
   ]
  },
  {
   "cell_type": "code",
   "execution_count": 3,
   "id": "b09406ad",
   "metadata": {},
   "outputs": [
    {
     "name": "stdout",
     "output_type": "stream",
     "text": [
      "[[[ 59  62  63]\n",
      "  [ 43  46  45]\n",
      "  [ 50  48  43]\n",
      "  ...\n",
      "  [158 132 108]\n",
      "  [152 125 102]\n",
      "  [148 124 103]]\n",
      "\n",
      " [[ 16  20  20]\n",
      "  [  0   0   0]\n",
      "  [ 18   8   0]\n",
      "  ...\n",
      "  [123  88  55]\n",
      "  [119  83  50]\n",
      "  [122  87  57]]\n",
      "\n",
      " [[ 25  24  21]\n",
      "  [ 16   7   0]\n",
      "  [ 49  27   8]\n",
      "  ...\n",
      "  [118  84  50]\n",
      "  [120  84  50]\n",
      "  [109  73  42]]\n",
      "\n",
      " ...\n",
      "\n",
      " [[208 170  96]\n",
      "  [201 153  34]\n",
      "  [198 161  26]\n",
      "  ...\n",
      "  [160 133  70]\n",
      "  [ 56  31   7]\n",
      "  [ 53  34  20]]\n",
      "\n",
      " [[180 139  96]\n",
      "  [173 123  42]\n",
      "  [186 144  30]\n",
      "  ...\n",
      "  [184 148  94]\n",
      "  [ 97  62  34]\n",
      "  [ 83  53  34]]\n",
      "\n",
      " [[177 144 116]\n",
      "  [168 129  94]\n",
      "  [179 142  87]\n",
      "  ...\n",
      "  [216 184 140]\n",
      "  [151 118  84]\n",
      "  [123  92  72]]]\n"
     ]
    }
   ],
   "source": [
    "print(x_train[0])"
   ]
  },
  {
   "cell_type": "code",
   "execution_count": 4,
   "id": "011326a1",
   "metadata": {},
   "outputs": [],
   "source": [
    "y_train = y_train.reshape(-1,)\n",
    "y_test = y_test.reshape(-1,)"
   ]
  },
  {
   "cell_type": "code",
   "execution_count": 5,
   "id": "afd8726e",
   "metadata": {},
   "outputs": [],
   "source": [
    "classes = ['airplane', 'automobile', 'bird', 'cat', 'deer',\n",
    "           'dog', 'frog', 'horse', 'ship', 'truck']"
   ]
  },
  {
   "cell_type": "code",
   "execution_count": 6,
   "id": "6a1eeeea",
   "metadata": {},
   "outputs": [],
   "source": [
    "def plot_sample(x, y, index):\n",
    "    plt.figure(figsize=(15,2))\n",
    "    plt.imshow(x[index])\n",
    "    plt.xlabel(classes[y[index]])"
   ]
  },
  {
   "cell_type": "code",
   "execution_count": 7,
   "id": "fa699d46",
   "metadata": {},
   "outputs": [
    {
     "data": {
      "image/png": "[encoded data removed]",
      "text/plain": [
       "<Figure size 1500x200 with 1 Axes>"
      ]
     },
     "metadata": {},
     "output_type": "display_data"
    }
   ],
   "source": [
    "plot_sample(x_train, y_train, 5)"
   ]
  },
  {
   "cell_type": "code",
   "execution_count": 8,
   "id": "ca2b1e00",
   "metadata": {},
   "outputs": [],
   "source": [
    "x_train = x_train/ 255.0\n",
    "x_test = x_test/ 255.0"
   ]
  },
  {
   "cell_type": "code",
   "execution_count": 14,
   "id": "fc6739ec",
   "metadata": {},
   "outputs": [],
   "source": [
    "def cnn_model(input_shape = (32, 32, 3)):\n",
    "    model = Sequential()\n",
    "    model.add(Conv2D(filters = 32, kernel_size = 3, padding = 'same', activation = 'relu'))\n",
    "    model.add(Conv2D(filters = 32, kernel_size = 3, padding = 'same', activation = 'relu'))\n",
    "    model.add(MaxPooling2D(pool_size = (2, 2)))\n",
    "\n",
    "    model.add(Conv2D(filters = 64, kernel_size = 3, padding = 'same', activation = 'relu'))\n",
    "    model.add(Conv2D(filters = 64, kernel_size = 3, padding = 'same', activation = 'relu'))\n",
    "    model.add(MaxPooling2D(pool_size = (2, 2)))\n",
    "\n",
    "    model.add(Conv2D(filters = 64, kernel_size = 3, padding = 'same', activation = 'relu'))\n",
    "    model.add(Conv2D(filters = 64, kernel_size = 3, padding = 'same', activation = 'relu'))\n",
    "    model.add(MaxPooling2D(pool_size = (2, 2)))\n",
    "\n",
    "    model.add(Flatten())\n",
    "    model.add(Dense(521, activation = 'relu'))\n",
    "    model.add(Dense(10, activation = 'softmax'))\n",
    "\n",
    "    return model\n",
    "\n"
   ]
  },
  {
   "cell_type": "code",
   "execution_count": 15,
   "id": "9fb6eae9",
   "metadata": {},
   "outputs": [
    {
     "name": "stdout",
     "output_type": "stream",
     "text": [
      "Epoch 1/10\n",
      "\u001b[1m1563/1563\u001b[0m \u001b[32m━━━━━━━━━━━━━━━━━━━━\u001b[0m\u001b[37m\u001b[0m \u001b[1m54s\u001b[0m 34ms/step - accuracy: 0.3555 - loss: 1.7394\n",
      "Epoch 2/10\n",
      "\u001b[1m1563/1563\u001b[0m \u001b[32m━━━━━━━━━━━━━━━━━━━━\u001b[0m\u001b[37m\u001b[0m \u001b[1m48s\u001b[0m 31ms/step - accuracy: 0.6336 - loss: 1.0204\n",
      "Epoch 3/10\n",
      "\u001b[1m1563/1563\u001b[0m \u001b[32m━━━━━━━━━━━━━━━━━━━━\u001b[0m\u001b[37m\u001b[0m \u001b[1m49s\u001b[0m 32ms/step - accuracy: 0.7211 - loss: 0.7864\n",
      "Epoch 4/10\n",
      "\u001b[1m1563/1563\u001b[0m \u001b[32m━━━━━━━━━━━━━━━━━━━━\u001b[0m\u001b[37m\u001b[0m \u001b[1m58s\u001b[0m 37ms/step - accuracy: 0.7726 - loss: 0.6481\n",
      "Epoch 5/10\n",
      "\u001b[1m1563/1563\u001b[0m \u001b[32m━━━━━━━━━━━━━━━━━━━━\u001b[0m\u001b[37m\u001b[0m \u001b[1m52s\u001b[0m 34ms/step - accuracy: 0.8106 - loss: 0.5389\n",
      "Epoch 6/10\n",
      "\u001b[1m1563/1563\u001b[0m \u001b[32m━━━━━━━━━━━━━━━━━━━━\u001b[0m\u001b[37m\u001b[0m \u001b[1m53s\u001b[0m 34ms/step - accuracy: 0.8431 - loss: 0.4452\n",
      "Epoch 7/10\n",
      "\u001b[1m1563/1563\u001b[0m \u001b[32m━━━━━━━━━━━━━━━━━━━━\u001b[0m\u001b[37m\u001b[0m \u001b[1m49s\u001b[0m 32ms/step - accuracy: 0.8711 - loss: 0.3618\n",
      "Epoch 8/10\n",
      "\u001b[1m1563/1563\u001b[0m \u001b[32m━━━━━━━━━━━━━━━━━━━━\u001b[0m\u001b[37m\u001b[0m \u001b[1m49s\u001b[0m 31ms/step - accuracy: 0.8958 - loss: 0.2947\n",
      "Epoch 9/10\n",
      "\u001b[1m1563/1563\u001b[0m \u001b[32m━━━━━━━━━━━━━━━━━━━━\u001b[0m\u001b[37m\u001b[0m \u001b[1m49s\u001b[0m 31ms/step - accuracy: 0.9172 - loss: 0.2346\n",
      "Epoch 10/10\n",
      "\u001b[1m1563/1563\u001b[0m \u001b[32m━━━━━━━━━━━━━━━━━━━━\u001b[0m\u001b[37m\u001b[0m \u001b[1m50s\u001b[0m 32ms/step - accuracy: 0.9258 - loss: 0.2068\n",
      "\u001b[1m1563/1563\u001b[0m \u001b[32m━━━━━━━━━━━━━━━━━━━━\u001b[0m\u001b[37m\u001b[0m \u001b[1m13s\u001b[0m 8ms/step\n",
      "\u001b[1m313/313\u001b[0m \u001b[32m━━━━━━━━━━━━━━━━━━━━\u001b[0m\u001b[37m\u001b[0m \u001b[1m3s\u001b[0m 9ms/step\n"
     ]
    }
   ],
   "source": [
    "model = cnn_model()\n",
    "model.compile(optimizer = 'adam', loss = 'sparse_categorical_crossentropy', metrics = ['accuracy'])\n",
    "model.fit(x_train, y_train, epochs = 10)\n",
    "ypred = model.predict(x_train)\n",
    "ypred = model.predict(x_test) \n",
    "ypred_class = [np.argmax(i) for i in ypred]"
   ]
  },
  {
   "cell_type": "code",
   "execution_count": null,
   "id": "76352e65",
   "metadata": {},
   "outputs": [],
   "source": []
  }
 ],
 "metadata": {
  "kernelspec": {
   "display_name": "venv",
   "language": "python",
   "name": "python3"
  },
  "language_info": {
   "codemirror_mode": {
    "name": "ipython",
    "version": 3
   },
   "file_extension": ".py",
   "mimetype": "text/x-python",
   "name": "python",
   "nbconvert_exporter": "python",
   "pygments_lexer": "ipython3",
   "version": "3.9.23"
  }
 },
 "nbformat": 4,
 "nbformat_minor": 5
}
